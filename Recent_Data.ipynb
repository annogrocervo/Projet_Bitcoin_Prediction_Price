{
  "nbformat": 4,
  "nbformat_minor": 0,
  "metadata": {
    "colab": {
      "name": "Recent Data",
      "provenance": [],
      "collapsed_sections": []
    },
    "kernelspec": {
      "name": "python3",
      "display_name": "Python 3"
    }
  },
  "cells": [
    {
      "cell_type": "markdown",
      "metadata": {
        "id": "dYaaI0SXUyUj",
        "colab_type": "text"
      },
      "source": [
        "# **VAR**\n",
        "\n",
        "\n",
        "In this notebook, we have implemented a VAR model, in order to predict daily closing bitcoin prices with multi-variate inputs.\n",
        "\n",
        "\n",
        "This multivariate model is similar to the ARIMA model, to the extent that it computes the next values of a time series using the previous data points. The big difference is that it computes as many time series as we want, and it predicts the future values of all time series at the same time. It predicts all values so that it can make longer-term predictions based on previous prediction of all series. In other terms, the equation predicting the future value of one of the series is calculated on the basis of the previous values of all series.\n",
        "\n",
        "\n",
        "This second model is the more complex one, and it includes inputs that we thought could be relevant to forecast bitcoin prices.\n",
        "\n",
        "The inputs included are : \n",
        "- The price of gold. This is a stable measure that can inform us on global economic health. Here, we are wondering whether the Bitcoin price is affected by the global economy.\n",
        "- The S&P, a stock market index measuring the stock performance of 500 large companies in the United States. We are using it as a general indicator of the US's market health. Here, we are wondering whether the Bitcoin price is affected by the US economy.\n",
        "- The price of Ethereum (ETH), another crypto currency, that we are using as a comparison measure - we are checking whether crypto currencies influence each other \n",
        "- The exchange rate between the Dollar and the Yuan, to check whether the health of these currencies and the geopolitical implications impact Bitcoin. \n",
        "\n",
        "We initially wanted to include Twitter inputs to give us more qualitative data rather than quantitative, and to showcase the public's opinion as well as experts' opinions. However, we encountered several issues with the retrieval of data, notably the fact that twitter doesn't allow for scapping >100 data points - meaning that we had data covering time periods that were way too short.\n"
      ]
    },
    {
      "cell_type": "markdown",
      "metadata": {
        "id": "qU0juP0EIzQb",
        "colab_type": "text"
      },
      "source": [
        "# **Step 1: Data preparation**\n",
        "\n",
        "Loading, cleaning and plotting the datasets"
      ]
    },
    {
      "cell_type": "code",
      "metadata": {
        "id": "dadXU16l8yt4",
        "colab_type": "code",
        "outputId": "0af93b92-a5a2-4cb5-83ef-b7ebdd10ef49",
        "colab": {
          "base_uri": "https://localhost:8080/",
          "height": 51
        }
      },
      "source": [
        "# Importing pandas for database manipulation ; matplotlib for graphs ; and seaborn for data visualization and correlation analysis\n",
        "import pandas as pd\n",
        "import matplotlib.pyplot as plt\n",
        "import seaborn as sns"
      ],
      "execution_count": 0,
      "outputs": [
        {
          "output_type": "stream",
          "text": [
            "/usr/local/lib/python3.6/dist-packages/statsmodels/tools/_testing.py:19: FutureWarning: pandas.util.testing is deprecated. Use the functions in the public API at pandas.testing instead.\n",
            "  import pandas.util.testing as tm\n"
          ],
          "name": "stderr"
        }
      ]
    },
    {
      "cell_type": "markdown",
      "metadata": {
        "id": "pccvFhPdJSZf",
        "colab_type": "text"
      },
      "source": [
        "**Bitcoin**"
      ]
    },
    {
      "cell_type": "code",
      "metadata": {
        "id": "jwtnaPTQ-X7R",
        "colab_type": "code",
        "outputId": "2b7ef80f-7f8b-408f-d0cb-00e9e2e6d3c0",
        "colab": {
          "base_uri": "https://localhost:8080/",
          "height": 443
        }
      },
      "source": [
        "#Importing the bitcoin price dataset\n",
        "bitcoin = pd.read_csv(\"/content/Bitcoin Historical Data - Investing.com (1).csv\", sep = \",\")\n",
        "\n",
        "#Keeping only the Date and Price columns\n",
        "bitcoin = bitcoin[[\"Date\", \"Price\"]]\n",
        "\n",
        "#Making the df more easy to manipulate by changing the column names\n",
        "bitcoin.rename(columns = {\"Price\" : \"Bitcoin\"}, inplace = True)\n",
        "\n",
        "#putting the data in chronological order\n",
        "bitcoin = bitcoin[::-1]\n",
        "bitcoin.reset_index(drop = True, inplace = True)\n",
        "\n",
        "#Converting to datetime\n",
        "bitcoin[\"Date\"] = pd.to_datetime(bitcoin['Date'])\n",
        "\n",
        "#Setting the type to float64 to allow for plotting, analysis and comparison\n",
        "bitcoin['Bitcoin'] = bitcoin['Bitcoin'].str.replace(',', '')\n",
        "bitcoin['Bitcoin']=bitcoin[\"Bitcoin\"].astype('float64')\n",
        "\n",
        "bitcoin\n"
      ],
      "execution_count": 0,
      "outputs": [
        {
          "output_type": "error",
          "ename": "FileNotFoundError",
          "evalue": "ignored",
          "traceback": [
            "\u001b[0;31m---------------------------------------------------------------------------\u001b[0m",
            "\u001b[0;31mFileNotFoundError\u001b[0m                         Traceback (most recent call last)",
            "\u001b[0;32m<ipython-input-3-91817f730cf7>\u001b[0m in \u001b[0;36m<module>\u001b[0;34m()\u001b[0m\n\u001b[1;32m      1\u001b[0m \u001b[0;31m#Importing the bitcoin price dataset\u001b[0m\u001b[0;34m\u001b[0m\u001b[0;34m\u001b[0m\u001b[0;34m\u001b[0m\u001b[0m\n\u001b[0;32m----> 2\u001b[0;31m \u001b[0mbitcoin\u001b[0m \u001b[0;34m=\u001b[0m \u001b[0mpd\u001b[0m\u001b[0;34m.\u001b[0m\u001b[0mread_csv\u001b[0m\u001b[0;34m(\u001b[0m\u001b[0;34m\"/Recent Data - files used/Bitcoin Historical Data - Investing.com (1).csv\"\u001b[0m\u001b[0;34m,\u001b[0m \u001b[0msep\u001b[0m \u001b[0;34m=\u001b[0m \u001b[0;34m\",\"\u001b[0m\u001b[0;34m)\u001b[0m\u001b[0;34m\u001b[0m\u001b[0;34m\u001b[0m\u001b[0m\n\u001b[0m\u001b[1;32m      3\u001b[0m \u001b[0;34m\u001b[0m\u001b[0m\n\u001b[1;32m      4\u001b[0m \u001b[0;31m#Keeping only the Date and Price columns\u001b[0m\u001b[0;34m\u001b[0m\u001b[0;34m\u001b[0m\u001b[0;34m\u001b[0m\u001b[0m\n\u001b[1;32m      5\u001b[0m \u001b[0mbitcoin\u001b[0m \u001b[0;34m=\u001b[0m \u001b[0mbitcoin\u001b[0m\u001b[0;34m[\u001b[0m\u001b[0;34m[\u001b[0m\u001b[0;34m\"Date\"\u001b[0m\u001b[0;34m,\u001b[0m \u001b[0;34m\"Price\"\u001b[0m\u001b[0;34m]\u001b[0m\u001b[0;34m]\u001b[0m\u001b[0;34m\u001b[0m\u001b[0;34m\u001b[0m\u001b[0m\n",
            "\u001b[0;32m/usr/local/lib/python3.6/dist-packages/pandas/io/parsers.py\u001b[0m in \u001b[0;36mparser_f\u001b[0;34m(filepath_or_buffer, sep, delimiter, header, names, index_col, usecols, squeeze, prefix, mangle_dupe_cols, dtype, engine, converters, true_values, false_values, skipinitialspace, skiprows, skipfooter, nrows, na_values, keep_default_na, na_filter, verbose, skip_blank_lines, parse_dates, infer_datetime_format, keep_date_col, date_parser, dayfirst, cache_dates, iterator, chunksize, compression, thousands, decimal, lineterminator, quotechar, quoting, doublequote, escapechar, comment, encoding, dialect, error_bad_lines, warn_bad_lines, delim_whitespace, low_memory, memory_map, float_precision)\u001b[0m\n\u001b[1;32m    674\u001b[0m         )\n\u001b[1;32m    675\u001b[0m \u001b[0;34m\u001b[0m\u001b[0m\n\u001b[0;32m--> 676\u001b[0;31m         \u001b[0;32mreturn\u001b[0m \u001b[0m_read\u001b[0m\u001b[0;34m(\u001b[0m\u001b[0mfilepath_or_buffer\u001b[0m\u001b[0;34m,\u001b[0m \u001b[0mkwds\u001b[0m\u001b[0;34m)\u001b[0m\u001b[0;34m\u001b[0m\u001b[0;34m\u001b[0m\u001b[0m\n\u001b[0m\u001b[1;32m    677\u001b[0m \u001b[0;34m\u001b[0m\u001b[0m\n\u001b[1;32m    678\u001b[0m     \u001b[0mparser_f\u001b[0m\u001b[0;34m.\u001b[0m\u001b[0m__name__\u001b[0m \u001b[0;34m=\u001b[0m \u001b[0mname\u001b[0m\u001b[0;34m\u001b[0m\u001b[0;34m\u001b[0m\u001b[0m\n",
            "\u001b[0;32m/usr/local/lib/python3.6/dist-packages/pandas/io/parsers.py\u001b[0m in \u001b[0;36m_read\u001b[0;34m(filepath_or_buffer, kwds)\u001b[0m\n\u001b[1;32m    446\u001b[0m \u001b[0;34m\u001b[0m\u001b[0m\n\u001b[1;32m    447\u001b[0m     \u001b[0;31m# Create the parser.\u001b[0m\u001b[0;34m\u001b[0m\u001b[0;34m\u001b[0m\u001b[0;34m\u001b[0m\u001b[0m\n\u001b[0;32m--> 448\u001b[0;31m     \u001b[0mparser\u001b[0m \u001b[0;34m=\u001b[0m \u001b[0mTextFileReader\u001b[0m\u001b[0;34m(\u001b[0m\u001b[0mfp_or_buf\u001b[0m\u001b[0;34m,\u001b[0m \u001b[0;34m**\u001b[0m\u001b[0mkwds\u001b[0m\u001b[0;34m)\u001b[0m\u001b[0;34m\u001b[0m\u001b[0;34m\u001b[0m\u001b[0m\n\u001b[0m\u001b[1;32m    449\u001b[0m \u001b[0;34m\u001b[0m\u001b[0m\n\u001b[1;32m    450\u001b[0m     \u001b[0;32mif\u001b[0m \u001b[0mchunksize\u001b[0m \u001b[0;32mor\u001b[0m \u001b[0miterator\u001b[0m\u001b[0;34m:\u001b[0m\u001b[0;34m\u001b[0m\u001b[0;34m\u001b[0m\u001b[0m\n",
            "\u001b[0;32m/usr/local/lib/python3.6/dist-packages/pandas/io/parsers.py\u001b[0m in \u001b[0;36m__init__\u001b[0;34m(self, f, engine, **kwds)\u001b[0m\n\u001b[1;32m    878\u001b[0m             \u001b[0mself\u001b[0m\u001b[0;34m.\u001b[0m\u001b[0moptions\u001b[0m\u001b[0;34m[\u001b[0m\u001b[0;34m\"has_index_names\"\u001b[0m\u001b[0;34m]\u001b[0m \u001b[0;34m=\u001b[0m \u001b[0mkwds\u001b[0m\u001b[0;34m[\u001b[0m\u001b[0;34m\"has_index_names\"\u001b[0m\u001b[0;34m]\u001b[0m\u001b[0;34m\u001b[0m\u001b[0;34m\u001b[0m\u001b[0m\n\u001b[1;32m    879\u001b[0m \u001b[0;34m\u001b[0m\u001b[0m\n\u001b[0;32m--> 880\u001b[0;31m         \u001b[0mself\u001b[0m\u001b[0;34m.\u001b[0m\u001b[0m_make_engine\u001b[0m\u001b[0;34m(\u001b[0m\u001b[0mself\u001b[0m\u001b[0;34m.\u001b[0m\u001b[0mengine\u001b[0m\u001b[0;34m)\u001b[0m\u001b[0;34m\u001b[0m\u001b[0;34m\u001b[0m\u001b[0m\n\u001b[0m\u001b[1;32m    881\u001b[0m \u001b[0;34m\u001b[0m\u001b[0m\n\u001b[1;32m    882\u001b[0m     \u001b[0;32mdef\u001b[0m \u001b[0mclose\u001b[0m\u001b[0;34m(\u001b[0m\u001b[0mself\u001b[0m\u001b[0;34m)\u001b[0m\u001b[0;34m:\u001b[0m\u001b[0;34m\u001b[0m\u001b[0;34m\u001b[0m\u001b[0m\n",
            "\u001b[0;32m/usr/local/lib/python3.6/dist-packages/pandas/io/parsers.py\u001b[0m in \u001b[0;36m_make_engine\u001b[0;34m(self, engine)\u001b[0m\n\u001b[1;32m   1112\u001b[0m     \u001b[0;32mdef\u001b[0m \u001b[0m_make_engine\u001b[0m\u001b[0;34m(\u001b[0m\u001b[0mself\u001b[0m\u001b[0;34m,\u001b[0m \u001b[0mengine\u001b[0m\u001b[0;34m=\u001b[0m\u001b[0;34m\"c\"\u001b[0m\u001b[0;34m)\u001b[0m\u001b[0;34m:\u001b[0m\u001b[0;34m\u001b[0m\u001b[0;34m\u001b[0m\u001b[0m\n\u001b[1;32m   1113\u001b[0m         \u001b[0;32mif\u001b[0m \u001b[0mengine\u001b[0m \u001b[0;34m==\u001b[0m \u001b[0;34m\"c\"\u001b[0m\u001b[0;34m:\u001b[0m\u001b[0;34m\u001b[0m\u001b[0;34m\u001b[0m\u001b[0m\n\u001b[0;32m-> 1114\u001b[0;31m             \u001b[0mself\u001b[0m\u001b[0;34m.\u001b[0m\u001b[0m_engine\u001b[0m \u001b[0;34m=\u001b[0m \u001b[0mCParserWrapper\u001b[0m\u001b[0;34m(\u001b[0m\u001b[0mself\u001b[0m\u001b[0;34m.\u001b[0m\u001b[0mf\u001b[0m\u001b[0;34m,\u001b[0m \u001b[0;34m**\u001b[0m\u001b[0mself\u001b[0m\u001b[0;34m.\u001b[0m\u001b[0moptions\u001b[0m\u001b[0;34m)\u001b[0m\u001b[0;34m\u001b[0m\u001b[0;34m\u001b[0m\u001b[0m\n\u001b[0m\u001b[1;32m   1115\u001b[0m         \u001b[0;32melse\u001b[0m\u001b[0;34m:\u001b[0m\u001b[0;34m\u001b[0m\u001b[0;34m\u001b[0m\u001b[0m\n\u001b[1;32m   1116\u001b[0m             \u001b[0;32mif\u001b[0m \u001b[0mengine\u001b[0m \u001b[0;34m==\u001b[0m \u001b[0;34m\"python\"\u001b[0m\u001b[0;34m:\u001b[0m\u001b[0;34m\u001b[0m\u001b[0;34m\u001b[0m\u001b[0m\n",
            "\u001b[0;32m/usr/local/lib/python3.6/dist-packages/pandas/io/parsers.py\u001b[0m in \u001b[0;36m__init__\u001b[0;34m(self, src, **kwds)\u001b[0m\n\u001b[1;32m   1889\u001b[0m         \u001b[0mkwds\u001b[0m\u001b[0;34m[\u001b[0m\u001b[0;34m\"usecols\"\u001b[0m\u001b[0;34m]\u001b[0m \u001b[0;34m=\u001b[0m \u001b[0mself\u001b[0m\u001b[0;34m.\u001b[0m\u001b[0musecols\u001b[0m\u001b[0;34m\u001b[0m\u001b[0;34m\u001b[0m\u001b[0m\n\u001b[1;32m   1890\u001b[0m \u001b[0;34m\u001b[0m\u001b[0m\n\u001b[0;32m-> 1891\u001b[0;31m         \u001b[0mself\u001b[0m\u001b[0;34m.\u001b[0m\u001b[0m_reader\u001b[0m \u001b[0;34m=\u001b[0m \u001b[0mparsers\u001b[0m\u001b[0;34m.\u001b[0m\u001b[0mTextReader\u001b[0m\u001b[0;34m(\u001b[0m\u001b[0msrc\u001b[0m\u001b[0;34m,\u001b[0m \u001b[0;34m**\u001b[0m\u001b[0mkwds\u001b[0m\u001b[0;34m)\u001b[0m\u001b[0;34m\u001b[0m\u001b[0;34m\u001b[0m\u001b[0m\n\u001b[0m\u001b[1;32m   1892\u001b[0m         \u001b[0mself\u001b[0m\u001b[0;34m.\u001b[0m\u001b[0munnamed_cols\u001b[0m \u001b[0;34m=\u001b[0m \u001b[0mself\u001b[0m\u001b[0;34m.\u001b[0m\u001b[0m_reader\u001b[0m\u001b[0;34m.\u001b[0m\u001b[0munnamed_cols\u001b[0m\u001b[0;34m\u001b[0m\u001b[0;34m\u001b[0m\u001b[0m\n\u001b[1;32m   1893\u001b[0m \u001b[0;34m\u001b[0m\u001b[0m\n",
            "\u001b[0;32mpandas/_libs/parsers.pyx\u001b[0m in \u001b[0;36mpandas._libs.parsers.TextReader.__cinit__\u001b[0;34m()\u001b[0m\n",
            "\u001b[0;32mpandas/_libs/parsers.pyx\u001b[0m in \u001b[0;36mpandas._libs.parsers.TextReader._setup_parser_source\u001b[0;34m()\u001b[0m\n",
            "\u001b[0;31mFileNotFoundError\u001b[0m: [Errno 2] File /Recent Data - files used/Bitcoin Historical Data - Investing.com (1).csv does not exist: '/Recent Data - files used/Bitcoin Historical Data - Investing.com (1).csv'"
          ]
        }
      ]
    },
    {
      "cell_type": "code",
      "metadata": {
        "id": "U2MD0YY6INuq",
        "colab_type": "code",
        "colab": {}
      },
      "source": [
        "#Plotting the data\n",
        "bitcoin.plot(y = ['Bitcoin'], kind = 'line', figsize = (12,12) )"
      ],
      "execution_count": 0,
      "outputs": []
    },
    {
      "cell_type": "markdown",
      "metadata": {
        "id": "JM45wSshJWWN",
        "colab_type": "text"
      },
      "source": [
        "**Gold**"
      ]
    },
    {
      "cell_type": "code",
      "metadata": {
        "id": "zSnKzK4H8W0o",
        "colab_type": "code",
        "colab": {}
      },
      "source": [
        "#Importing the gold dataset\n",
        "gold = pd.read_csv(\"/content/gold-Current.csv\", delimiter = \",\")\n",
        "\n",
        "#Keeping only the Date (\"Market\") and Price (\"Perth Mint Spot.12\") columns\n",
        "gold = gold[[\"Market\",\"Perth Mint Spot.12\"]]\n",
        "gold = gold.dropna()\n",
        "\n",
        "#Getting rid of the descriptive rows\n",
        "gold = gold.drop(gold.index[0:16])\n",
        "\n",
        "#Converting to datetime\n",
        "gold['Market'] = pd.to_datetime(gold['Market'])\n",
        "\n",
        "#Making the df more easy to manipulate by changing the column names\n",
        "gold.rename(columns = {\"Market\" : \"Date\"}, inplace = True)\n",
        "gold.rename(columns = {\"Perth Mint Spot.12\" : \"Gold\"}, inplace = True)\n",
        "\n",
        "#Setting the type to float64 to allow for plotting, analysis and comparison\n",
        "gold[\"Gold\"]=gold[\"Gold\"].astype('float64')\n",
        "gold"
      ],
      "execution_count": 0,
      "outputs": []
    },
    {
      "cell_type": "code",
      "metadata": {
        "id": "rW1xF31cX7Pu",
        "colab_type": "code",
        "colab": {}
      },
      "source": [
        "#Plotting the data\n",
        "gold.plot(y = ['Gold'], kind = 'line', figsize = (12,12) )"
      ],
      "execution_count": 0,
      "outputs": []
    },
    {
      "cell_type": "markdown",
      "metadata": {
        "id": "G-o3ptBFJZO4",
        "colab_type": "text"
      },
      "source": [
        "**Ethereum**"
      ]
    },
    {
      "cell_type": "code",
      "metadata": {
        "id": "18pdW9kLAA_f",
        "colab_type": "code",
        "colab": {}
      },
      "source": [
        "#Importing the ETH dataset\n",
        "ETH = pd.read_csv(\"/content/ETH_USD Bitfinex Historical Data.csv\", delimiter = \",\")\n",
        "\n",
        "#Keeping only the Date and Price columns\n",
        "ETH = ETH [[\"Date\", \"Price\"]]\n",
        "\n",
        "#Making the df more easy to manipulate by changing the column names\n",
        "ETH.rename(columns = {\"Price\" : \"ETH\"}, inplace = True)\n",
        "\n",
        "#putting the data in chronological order\n",
        "ETH = ETH [::-1]\n",
        "ETH.reset_index(drop = True, inplace = True)\n",
        "\n",
        "#Converting to datetime\n",
        "ETH[\"Date\"] = pd.to_datetime(ETH['Date'])\n",
        "\n",
        "ETH"
      ],
      "execution_count": 0,
      "outputs": []
    },
    {
      "cell_type": "code",
      "metadata": {
        "id": "FC7LylhyISgp",
        "colab_type": "code",
        "colab": {}
      },
      "source": [
        "#Plotting the data\n",
        "ETH.plot(y = ['ETH'], kind = 'line', figsize = (12,12) )"
      ],
      "execution_count": 0,
      "outputs": []
    },
    {
      "cell_type": "markdown",
      "metadata": {
        "id": "yheZZtxNJeU5",
        "colab_type": "text"
      },
      "source": [
        "**SP**"
      ]
    },
    {
      "cell_type": "code",
      "metadata": {
        "id": "-OrRH_ULvcMg",
        "colab_type": "code",
        "colab": {}
      },
      "source": [
        "#Importing the SP dataset\n",
        "SP = pd.read_csv(\"/content/^GSPC (1).csv\")\n",
        "\n",
        "#Keeping only the Date and Price columns\n",
        "SP = SP[[\"Date\", \"Close\"]]\n",
        "\n",
        "#Converting to datetime\n",
        "SP[\"Date\"] = pd.to_datetime(SP[\"Date\"])\n",
        "\n",
        "#Setting the type to float64 to allow for plotting, analysis and comparison\n",
        "SP[\"Close\"]=SP[\"Close\"].astype('float64')\n",
        "\n",
        "#Making the df more easy to manipulate by changing the column names\n",
        "SP.rename(columns = {\"Close\" : \"SP\"}, inplace = True)\n",
        "\n",
        "SP"
      ],
      "execution_count": 0,
      "outputs": []
    },
    {
      "cell_type": "code",
      "metadata": {
        "id": "2ptjLjjdIWHW",
        "colab_type": "code",
        "colab": {}
      },
      "source": [
        "#Plotting the data\n",
        "SP.plot(y = ['SP'], kind = 'line', figsize = (12,12) )"
      ],
      "execution_count": 0,
      "outputs": []
    },
    {
      "cell_type": "markdown",
      "metadata": {
        "id": "bRGGC4PhJgbR",
        "colab_type": "text"
      },
      "source": [
        "**Dollar - Yuan exchange rate**"
      ]
    },
    {
      "cell_type": "code",
      "metadata": {
        "id": "Nc5AcodGvjcu",
        "colab_type": "code",
        "colab": {}
      },
      "source": [
        "#Importing the Dollar to Yuan dataset\n",
        "Dollar_to_Yuan = pd.read_csv(\"/content/USD_CNY Historical Data.csv\")\n",
        "\n",
        "#Keeping only the Date and Price columns\n",
        "Dollar_to_Yuan = Dollar_to_Yuan[[\"Date\",\"Price\"]]\n",
        "\n",
        "#Converting to datetime\n",
        "Dollar_to_Yuan[\"Date\"]= pd.to_datetime(Dollar_to_Yuan[\"Date\"])\n",
        "\n",
        "#Setting the type to float64 to allow for plotting, analysis and comparison\n",
        "Dollar_to_Yuan[\"Price\"]=Dollar_to_Yuan[\"Price\"].astype('float64')\n",
        "\n",
        "#Making the df more easy to manipulate by changing the column names\n",
        "Dollar_to_Yuan.rename(columns = {\"Price\" : \"DtoY\"}, inplace = True)\n",
        "\n",
        "#putting the data in chronological order\n",
        "Dollar_to_Yuan = Dollar_to_Yuan[::-1]\n",
        "\n",
        "Dollar_to_Yuan\n",
        "\n",
        "#weekends missing (closed stock exchange)"
      ],
      "execution_count": 0,
      "outputs": []
    },
    {
      "cell_type": "code",
      "metadata": {
        "id": "M-W6_ShAIfxF",
        "colab_type": "code",
        "colab": {}
      },
      "source": [
        "#Plotting the data\n",
        "Dollar_to_Yuan.plot(y = ['DtoY'], kind = 'line', figsize = (12,12) )"
      ],
      "execution_count": 0,
      "outputs": []
    },
    {
      "cell_type": "markdown",
      "metadata": {
        "id": "0toWwtvOJD1l",
        "colab_type": "text"
      },
      "source": [
        "# **Step 2: Creating and exploring the final data frame**\n",
        "\n",
        "Merging the datasets and creating the final df\n",
        "\n",
        "Exploring the correlations between the variables"
      ]
    },
    {
      "cell_type": "markdown",
      "metadata": {
        "id": "VHeDydAzJlQ9",
        "colab_type": "text"
      },
      "source": [
        "**Merging the datasets**"
      ]
    },
    {
      "cell_type": "code",
      "metadata": {
        "id": "WL-JEZJlHs7W",
        "colab_type": "code",
        "colab": {}
      },
      "source": [
        "# Combining the datasets by merging them two at a time, on the common \"Date\" feature\n",
        "merge1 = pd.merge(gold,ETH, on = \"Date\")\n",
        "merge2 = pd.merge(merge1,SP, on = \"Date\")\n",
        "merge3 = pd.merge(merge2, Dollar_to_Yuan, on = \"Date\")\n",
        "\n",
        "#Creating the final dataset\n",
        "df = pd.merge(merge3, bitcoin, on = \"Date\")\n",
        "\n",
        "#Setting date as the index\n",
        "df.set_index('Date', inplace=True)\n",
        "df = df.sort_index()\n",
        "df\n",
        "\n",
        "#weekends missing"
      ],
      "execution_count": 0,
      "outputs": []
    },
    {
      "cell_type": "markdown",
      "metadata": {
        "id": "ZthSvvrGJn9g",
        "colab_type": "text"
      },
      "source": [
        "**Exploring the final df**"
      ]
    },
    {
      "cell_type": "code",
      "metadata": {
        "id": "unjTKYUnoCiy",
        "colab_type": "code",
        "colab": {}
      },
      "source": [
        "df.info()"
      ],
      "execution_count": 0,
      "outputs": []
    },
    {
      "cell_type": "code",
      "metadata": {
        "id": "0emOotF96ZJk",
        "colab_type": "code",
        "colab": {}
      },
      "source": [
        "df.describe()"
      ],
      "execution_count": 0,
      "outputs": []
    },
    {
      "cell_type": "markdown",
      "metadata": {
        "id": "angWG4O6Jqz1",
        "colab_type": "text"
      },
      "source": [
        "**Displaying the correlations**"
      ]
    },
    {
      "cell_type": "code",
      "metadata": {
        "id": "uVFGljEZpAAy",
        "colab_type": "code",
        "colab": {}
      },
      "source": [
        "#Computing the correlations between the different values\n",
        "df.corr()"
      ],
      "execution_count": 0,
      "outputs": []
    },
    {
      "cell_type": "code",
      "metadata": {
        "id": "Nz60AcndzYOb",
        "colab_type": "code",
        "colab": {}
      },
      "source": [
        "f,ax = plt.subplots(figsize = (10,10))\n",
        "sns.heatmap(df.corr(), annot = True, linewidths= 0.5, fmt = \".1f\", ax = ax)\n",
        "plt.show()"
      ],
      "execution_count": 0,
      "outputs": []
    },
    {
      "cell_type": "markdown",
      "metadata": {
        "id": "xIvpapD-JwpQ",
        "colab_type": "text"
      },
      "source": [
        "**Plotting the entire data**"
      ]
    },
    {
      "cell_type": "code",
      "metadata": {
        "id": "eH5isIKU11nR",
        "colab_type": "code",
        "colab": {}
      },
      "source": [
        "df.plot(y = ['Gold','Bitcoin', 'SP', 'DtoY', 'ETH'], kind = 'line', figsize = (14,14) )\n",
        "plt.xlabel('Date')\n",
        "plt.ylabel('Price')"
      ],
      "execution_count": 0,
      "outputs": []
    },
    {
      "cell_type": "code",
      "metadata": {
        "id": "Gh4K3w9u7IfH",
        "colab_type": "code",
        "colab": {}
      },
      "source": [
        "df[[\"Gold\", \"ETH\",\"SP\",\"DtoY\",\"Bitcoin\"]].plot(subplots=True, figsize=(12, 12)); plt.legend(loc = 2)"
      ],
      "execution_count": 0,
      "outputs": []
    },
    {
      "cell_type": "markdown",
      "metadata": {
        "id": "D8DGGeaHJz6J",
        "colab_type": "text"
      },
      "source": [
        "# **Step 3 : Creating the VAR Model**\n",
        "Creating the data frames\n",
        "\n",
        "Testing and adjusting for stationarity of the variables\n",
        "\n",
        "Choosing the appropriate parameter\n"
      ]
    },
    {
      "cell_type": "code",
      "metadata": {
        "id": "1A8DI7PkMtHj",
        "colab_type": "code",
        "colab": {}
      },
      "source": [
        "# Importing statsmodels for time series modelization tools (tests, plots and forecasting methods) for database manipulation ; numpy for algebra \n",
        "from statsmodels.tsa.api import VAR\n",
        "from statsmodels.tsa.stattools import adfuller\n",
        "from statsmodels.tools.eval_measures import rmse, aic, bic\n",
        "import numpy as np"
      ],
      "execution_count": 0,
      "outputs": []
    },
    {
      "cell_type": "markdown",
      "metadata": {
        "id": "1PGUBPjhRbj4",
        "colab_type": "text"
      },
      "source": [
        "**Creating the dataframes**"
      ]
    },
    {
      "cell_type": "code",
      "metadata": {
        "id": "ChAo3ZeENX58",
        "colab_type": "code",
        "colab": {}
      },
      "source": [
        "# Creating a training dataframe\n",
        "df_train = df[0:350]\n",
        "df_train"
      ],
      "execution_count": 0,
      "outputs": []
    },
    {
      "cell_type": "code",
      "metadata": {
        "id": "ETR8AAGGr__B",
        "colab_type": "code",
        "colab": {}
      },
      "source": [
        "# Creating a testing dataframe with the remaining data\n",
        "df_test = df[351:]\n",
        "df_test"
      ],
      "execution_count": 0,
      "outputs": []
    },
    {
      "cell_type": "markdown",
      "metadata": {
        "id": "buUnmAncRd7M",
        "colab_type": "text"
      },
      "source": [
        "**Testing for stationarity and differenciating the data**"
      ]
    },
    {
      "cell_type": "code",
      "metadata": {
        "id": "YsCFuMmak1TU",
        "colab_type": "code",
        "colab": {}
      },
      "source": [
        "#AD Fuller test on all components of the final data : this will help us verify that the series are non-stationary and need to be differentiated\n",
        "adfuller(bitcoin['Bitcoin'])\n",
        "#Here, t t-test value is higher than the confidence interval thresholds --> the data is not stationary"
      ],
      "execution_count": 0,
      "outputs": []
    },
    {
      "cell_type": "code",
      "metadata": {
        "id": "h0mRQm8INJLW",
        "colab_type": "code",
        "colab": {}
      },
      "source": [
        "adfuller(gold['Gold'])\n",
        "#Here, t t-test value is higher than the confidence interval thresholds --> the data is not stationary"
      ],
      "execution_count": 0,
      "outputs": []
    },
    {
      "cell_type": "code",
      "metadata": {
        "id": "6zo2815GNP0e",
        "colab_type": "code",
        "colab": {}
      },
      "source": [
        "adfuller(ETH['ETH'])\n",
        "#Here, t t-test value is higher than the confidence interval thresholds --> the data is not stationary"
      ],
      "execution_count": 0,
      "outputs": []
    },
    {
      "cell_type": "code",
      "metadata": {
        "id": "wsUIul8rNYiR",
        "colab_type": "code",
        "colab": {}
      },
      "source": [
        "adfuller(SP['SP'])\n",
        "#Here, t t-test value is higher than the confidence interval thresholds --> the data is not stationary"
      ],
      "execution_count": 0,
      "outputs": []
    },
    {
      "cell_type": "code",
      "metadata": {
        "id": "4VSw1Eh9NbGh",
        "colab_type": "code",
        "colab": {}
      },
      "source": [
        "adfuller(Dollar_to_Yuan['DtoY'])\n",
        "#Here, t t-test value is higher than the confidence interval thresholds --> the data is not stationary\n",
        "#We have thus concluded that all series are non-stationary --> we should differenciate them"
      ],
      "execution_count": 0,
      "outputs": []
    },
    {
      "cell_type": "code",
      "metadata": {
        "id": "zuhFfHaSjieL",
        "colab_type": "code",
        "colab": {}
      },
      "source": [
        "# Differenciating the data by differenciating each of the components (we know that a multivariate time series is stationary if all its components are stationary)\n",
        "bitcoin_differenciated = bitcoin.diff().dropna()\n",
        "adfuller(bitcoin_differenciated[\"Bitcoin\"])\n",
        "\n",
        "#Here, we observe that the t-test is smaller than the confidence interval thresholds --> the series is now stationary"
      ],
      "execution_count": 0,
      "outputs": []
    },
    {
      "cell_type": "code",
      "metadata": {
        "id": "GplFHCKuU-NF",
        "colab_type": "code",
        "colab": {}
      },
      "source": [
        "gold_differenciated = gold.diff().dropna()\n",
        "adfuller(gold_differenciated[\"Gold\"])\n",
        "\n",
        "#Here, we observe that the t-test is smaller than the confidence interval thresholds --> the series is now stationary"
      ],
      "execution_count": 0,
      "outputs": []
    },
    {
      "cell_type": "code",
      "metadata": {
        "id": "ijseVq_uVKo7",
        "colab_type": "code",
        "colab": {}
      },
      "source": [
        "ETH_differenciated = ETH.diff().dropna()\n",
        "adfuller(ETH_differenciated[\"ETH\"])\n",
        "\n",
        "#Here, we observe that the t-test is smaller than the confidence interval thresholds --> the series is now stationary"
      ],
      "execution_count": 0,
      "outputs": []
    },
    {
      "cell_type": "code",
      "metadata": {
        "id": "KkThHMrBVMTX",
        "colab_type": "code",
        "colab": {}
      },
      "source": [
        "SP_differenciated = SP.diff().dropna()\n",
        "adfuller(SP_differenciated[\"SP\"])\n",
        "\n",
        "#Here, we observe that the t-test is smaller than the confidence interval thresholds --> the series is now stationary"
      ],
      "execution_count": 0,
      "outputs": []
    },
    {
      "cell_type": "code",
      "metadata": {
        "id": "JY60Jf2nVSYM",
        "colab_type": "code",
        "colab": {}
      },
      "source": [
        "DtoY_differenciated = Dollar_to_Yuan.diff().dropna()\n",
        "adfuller(DtoY_differenciated[\"DtoY\"])\n",
        "\n",
        "#Here, we observe that the t-test is smaller than the confidence interval thresholds --> the series is now stationary"
      ],
      "execution_count": 0,
      "outputs": []
    },
    {
      "cell_type": "code",
      "metadata": {
        "id": "LJ0TOIQHWMZv",
        "colab_type": "code",
        "colab": {}
      },
      "source": [
        "#Now that all composing series are stationary, we can conclude that the main series will be stationary after one differenciation\n",
        "df_differenced = df_train.diff().dropna()\n",
        "\n",
        "#This is now the complete differenciated series"
      ],
      "execution_count": 0,
      "outputs": []
    },
    {
      "cell_type": "markdown",
      "metadata": {
        "id": "w2dFNVeyRubP",
        "colab_type": "text"
      },
      "source": [
        "**Choosing the parameter for the model**"
      ]
    },
    {
      "cell_type": "code",
      "metadata": {
        "id": "hol4ZeznRBxQ",
        "colab_type": "code",
        "colab": {}
      },
      "source": [
        "#Creating the model and testing for the best parameters using the AIC function (a prediction quality criterion - prediction optimized at the smallest aic value)\n",
        "model = VAR(df_differenced)\n",
        "for i in [1,2,3,4,5,6,7,8,9]:\n",
        "    result = model.fit(i)\n",
        "    print('Lag Order =', i)\n",
        "    print('AIC : ', result.aic)\n",
        "\n",
        "# Numbers 2 and 4 seem to yield the most interesting results"
      ],
      "execution_count": 0,
      "outputs": []
    },
    {
      "cell_type": "markdown",
      "metadata": {
        "id": "ASkLo6TQR0sx",
        "colab_type": "text"
      },
      "source": [
        "# **Step 4 : Fitting and forecasting**\n",
        "\n",
        "Fitting the model using the parameters\n",
        "\n",
        "Predicting the test dataset"
      ]
    },
    {
      "cell_type": "markdown",
      "metadata": {
        "id": "q3860BZNR_SC",
        "colab_type": "text"
      },
      "source": [
        "**Fitting the model**"
      ]
    },
    {
      "cell_type": "code",
      "metadata": {
        "id": "1AzLQXyHmEm2",
        "colab_type": "code",
        "colab": {}
      },
      "source": [
        "#Fitting the model using the chosen parameters\n",
        "model_fitted = model.fit(30)\n",
        "model_fitted.summary()"
      ],
      "execution_count": 0,
      "outputs": []
    },
    {
      "cell_type": "markdown",
      "metadata": {
        "id": "lVyoGCxQSDXv",
        "colab_type": "text"
      },
      "source": [
        "**Forecasting**"
      ]
    },
    {
      "cell_type": "code",
      "metadata": {
        "id": "L_hbipMPmjeb",
        "colab_type": "code",
        "colab": {}
      },
      "source": [
        "# Create the forecasting data, specifying the number of data points to predicy (here, 50)\n",
        "forecast_input = df_differenced.values[-50:]\n",
        "forecast_input"
      ],
      "execution_count": 0,
      "outputs": []
    },
    {
      "cell_type": "code",
      "metadata": {
        "id": "VxpqtO1OnAHg",
        "colab_type": "code",
        "colab": {}
      },
      "source": [
        "# Computing the forecast for the 50 next data points\n",
        "nobs = 50\n",
        "fc = model_fitted.forecast(y=forecast_input, steps=nobs)\n",
        "df_forecast = pd.DataFrame(fc, index=df.index[-nobs:], columns=df.columns + '_1d')\n",
        "df_forecast"
      ],
      "execution_count": 0,
      "outputs": []
    },
    {
      "cell_type": "code",
      "metadata": {
        "id": "Q9bHjoq6oICi",
        "colab_type": "code",
        "colab": {}
      },
      "source": [
        "# Transforming the data back to normal (canceling the diff function)\n",
        "def invert_transformation(df_train, df_forecast):\n",
        "    df_fc = df_forecast.copy()\n",
        "    for col in df_train.columns:        \n",
        "        df_fc[str(col)+'_forecast'] = df_train[col].iloc[-1] + df_fc[str(col)+'_1d'].cumsum()\n",
        "    return df_fc\n",
        "\n",
        "df_results = invert_transformation(df_train, df_forecast)        \n",
        "df_results.loc[:, ['Gold_forecast','ETH_forecast','SP_forecast','DtoY_forecast','Bitcoin_forecast']]"
      ],
      "execution_count": 0,
      "outputs": []
    },
    {
      "cell_type": "code",
      "metadata": {
        "id": "fkVdFCZPrxS1",
        "colab_type": "code",
        "colab": {}
      },
      "source": [
        "# Creating a final database with the actual values and the forecasts\n",
        "final = pd.merge(df_results, df, on = 'Date')\n",
        "final"
      ],
      "execution_count": 0,
      "outputs": []
    },
    {
      "cell_type": "code",
      "metadata": {
        "id": "MNHDPLD9yPCN",
        "colab_type": "code",
        "colab": {}
      },
      "source": [
        "#Plotting the final results\n",
        "final.plot(y = ['Bitcoin_forecast','Bitcoin'], kind = 'line', figsize = (14,14) )\n",
        "plt.xlabel('Date')\n",
        "plt.ylabel('Price')"
      ],
      "execution_count": 0,
      "outputs": []
    }
  ]
}